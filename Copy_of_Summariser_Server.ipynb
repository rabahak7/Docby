{
  "cells": [
    {
      "cell_type": "markdown",
      "metadata": {
        "id": "view-in-github",
        "colab_type": "text"
      },
      "source": [
        "<a href=\"https://colab.research.google.com/github/rabahak7/Docby/blob/main/Copy_of_Summariser_Server.ipynb\" target=\"_parent\"><img src=\"https://colab.research.google.com/assets/colab-badge.svg\" alt=\"Open In Colab\"/></a>"
      ]
    },
    {
      "cell_type": "code",
      "execution_count": null,
      "metadata": {
        "colab": {
          "base_uri": "https://localhost:8080/"
        },
        "id": "7Ug-E1l066qT",
        "outputId": "57e1f04b-3313-421d-b5f1-7563cc7c4d9d"
      },
      "outputs": [
        {
          "name": "stdout",
          "output_type": "stream",
          "text": [
            "Looking in indexes: https://pypi.org/simple, https://us-python.pkg.dev/colab-wheels/public/simple/\n",
            "Requirement already satisfied: transformers in /usr/local/lib/python3.7/dist-packages (4.19.4)\n",
            "Requirement already satisfied: importlib-metadata in /usr/local/lib/python3.7/dist-packages (from transformers) (4.11.4)\n",
            "Requirement already satisfied: regex!=2019.12.17 in /usr/local/lib/python3.7/dist-packages (from transformers) (2022.6.2)\n",
            "Requirement already satisfied: requests in /usr/local/lib/python3.7/dist-packages (from transformers) (2.23.0)\n",
            "Requirement already satisfied: filelock in /usr/local/lib/python3.7/dist-packages (from transformers) (3.7.1)\n",
            "Requirement already satisfied: packaging>=20.0 in /usr/local/lib/python3.7/dist-packages (from transformers) (21.3)\n",
            "Requirement already satisfied: tqdm>=4.27 in /usr/local/lib/python3.7/dist-packages (from transformers) (4.64.0)\n",
            "Requirement already satisfied: huggingface-hub<1.0,>=0.1.0 in /usr/local/lib/python3.7/dist-packages (from transformers) (0.7.0)\n",
            "Requirement already satisfied: numpy>=1.17 in /usr/local/lib/python3.7/dist-packages (from transformers) (1.21.6)\n",
            "Requirement already satisfied: tokenizers!=0.11.3,<0.13,>=0.11.1 in /usr/local/lib/python3.7/dist-packages (from transformers) (0.12.1)\n",
            "Requirement already satisfied: pyyaml>=5.1 in /usr/local/lib/python3.7/dist-packages (from transformers) (6.0)\n",
            "Requirement already satisfied: typing-extensions>=3.7.4.3 in /usr/local/lib/python3.7/dist-packages (from huggingface-hub<1.0,>=0.1.0->transformers) (4.2.0)\n",
            "Requirement already satisfied: pyparsing!=3.0.5,>=2.0.2 in /usr/local/lib/python3.7/dist-packages (from packaging>=20.0->transformers) (3.0.9)\n",
            "Requirement already satisfied: zipp>=0.5 in /usr/local/lib/python3.7/dist-packages (from importlib-metadata->transformers) (3.8.0)\n",
            "Requirement already satisfied: certifi>=2017.4.17 in /usr/local/lib/python3.7/dist-packages (from requests->transformers) (2022.5.18.1)\n",
            "Requirement already satisfied: chardet<4,>=3.0.2 in /usr/local/lib/python3.7/dist-packages (from requests->transformers) (3.0.4)\n",
            "Requirement already satisfied: idna<3,>=2.5 in /usr/local/lib/python3.7/dist-packages (from requests->transformers) (2.10)\n",
            "Requirement already satisfied: urllib3!=1.25.0,!=1.25.1,<1.26,>=1.21.1 in /usr/local/lib/python3.7/dist-packages (from requests->transformers) (1.24.3)\n",
            "Looking in indexes: https://pypi.org/simple, https://us-python.pkg.dev/colab-wheels/public/simple/\n",
            "Requirement already satisfied: Flask in /usr/local/lib/python3.7/dist-packages (1.1.4)\n",
            "Requirement already satisfied: Werkzeug<2.0,>=0.15 in /usr/local/lib/python3.7/dist-packages (from Flask) (1.0.1)\n",
            "Requirement already satisfied: itsdangerous<2.0,>=0.24 in /usr/local/lib/python3.7/dist-packages (from Flask) (1.1.0)\n",
            "Requirement already satisfied: click<8.0,>=5.1 in /usr/local/lib/python3.7/dist-packages (from Flask) (7.1.2)\n",
            "Requirement already satisfied: Jinja2<3.0,>=2.10.1 in /usr/local/lib/python3.7/dist-packages (from Flask) (2.11.3)\n",
            "Requirement already satisfied: MarkupSafe>=0.23 in /usr/local/lib/python3.7/dist-packages (from Jinja2<3.0,>=2.10.1->Flask) (2.0.1)\n",
            "Looking in indexes: https://pypi.org/simple, https://us-python.pkg.dev/colab-wheels/public/simple/\n",
            "Requirement already satisfied: flask-ngrok in /usr/local/lib/python3.7/dist-packages (0.0.25)\n",
            "Requirement already satisfied: requests in /usr/local/lib/python3.7/dist-packages (from flask-ngrok) (2.23.0)\n",
            "Requirement already satisfied: Flask>=0.8 in /usr/local/lib/python3.7/dist-packages (from flask-ngrok) (1.1.4)\n",
            "Requirement already satisfied: click<8.0,>=5.1 in /usr/local/lib/python3.7/dist-packages (from Flask>=0.8->flask-ngrok) (7.1.2)\n",
            "Requirement already satisfied: Jinja2<3.0,>=2.10.1 in /usr/local/lib/python3.7/dist-packages (from Flask>=0.8->flask-ngrok) (2.11.3)\n",
            "Requirement already satisfied: Werkzeug<2.0,>=0.15 in /usr/local/lib/python3.7/dist-packages (from Flask>=0.8->flask-ngrok) (1.0.1)\n",
            "Requirement already satisfied: itsdangerous<2.0,>=0.24 in /usr/local/lib/python3.7/dist-packages (from Flask>=0.8->flask-ngrok) (1.1.0)\n",
            "Requirement already satisfied: MarkupSafe>=0.23 in /usr/local/lib/python3.7/dist-packages (from Jinja2<3.0,>=2.10.1->Flask>=0.8->flask-ngrok) (2.0.1)\n",
            "Requirement already satisfied: chardet<4,>=3.0.2 in /usr/local/lib/python3.7/dist-packages (from requests->flask-ngrok) (3.0.4)\n",
            "Requirement already satisfied: urllib3!=1.25.0,!=1.25.1,<1.26,>=1.21.1 in /usr/local/lib/python3.7/dist-packages (from requests->flask-ngrok) (1.24.3)\n",
            "Requirement already satisfied: certifi>=2017.4.17 in /usr/local/lib/python3.7/dist-packages (from requests->flask-ngrok) (2022.5.18.1)\n",
            "Requirement already satisfied: idna<3,>=2.5 in /usr/local/lib/python3.7/dist-packages (from requests->flask-ngrok) (2.10)\n",
            "Authtoken saved to configuration file: /root/.ngrok2/ngrok.yml\n"
          ]
        }
      ],
      "source": [
        "!pip install transformers\n",
        "!pip install Flask\n",
        "!pip install flask-ngrok\n",
        "!ngrok authtoken 27tcYCAQy5aBk46NtKTQkGFkY8S_5FAGPmzuvDo8WYEd29kyf\n",
        "\n"
      ]
    },
    {
      "cell_type": "code",
      "execution_count": null,
      "metadata": {
        "colab": {
          "base_uri": "https://localhost:8080/"
        },
        "id": "rH93ygxdMjAJ",
        "outputId": "f967f7b7-3f02-4475-db4b-7acca31529e5"
      },
      "outputs": [
        {
          "name": "stdout",
          "output_type": "stream",
          "text": [
            "Looking in indexes: https://pypi.org/simple, https://us-python.pkg.dev/colab-wheels/public/simple/\n",
            "Requirement already satisfied: pyngrok in /usr/local/lib/python3.7/dist-packages (5.1.0)\n",
            "Requirement already satisfied: PyYAML in /usr/local/lib/python3.7/dist-packages (from pyngrok) (6.0)\n"
          ]
        }
      ],
      "source": [
        "pip install pyngrok"
      ]
    },
    {
      "cell_type": "code",
      "execution_count": null,
      "metadata": {
        "colab": {
          "base_uri": "https://localhost:8080/"
        },
        "id": "qpSLls6cNVLJ",
        "outputId": "ef48b940-f583-439e-c314-cc3a070c1715"
      },
      "outputs": [
        {
          "name": "stdout",
          "output_type": "stream",
          "text": [
            "Authtoken saved to configuration file: /root/.ngrok2/ngrok.yml\n"
          ]
        }
      ],
      "source": [
        "!ngrok authtoken 27tcYCAQy5aBk46NtKTQkGFkY8S_5FAGPmzuvDo8WYEd29kyf"
      ]
    },
    {
      "cell_type": "code",
      "execution_count": null,
      "metadata": {
        "colab": {
          "background_save": true,
          "base_uri": "https://localhost:8080/"
        },
        "id": "w-iun-nN6v0E",
        "outputId": "9c35eb08-3772-4aaf-ca65-3cac8ea823fc"
      },
      "outputs": [
        {
          "name": "stdout",
          "output_type": "stream",
          "text": [
            " * Serving Flask app \"__main__\" (lazy loading)\n",
            " * Environment: production\n",
            "\u001b[31m   WARNING: This is a development server. Do not use it in a production deployment.\u001b[0m\n",
            "\u001b[2m   Use a production WSGI server instead.\u001b[0m\n",
            " * Debug mode: off\n"
          ]
        },
        {
          "name": "stderr",
          "output_type": "stream",
          "text": [
            " * Running on http://127.0.0.1:5000/ (Press CTRL+C to quit)\n"
          ]
        },
        {
          "name": "stdout",
          "output_type": "stream",
          "text": [
            " * Running on http://9c26-34-125-5-71.ngrok.io\n",
            " * Traffic stats available on http://127.0.0.1:4040\n"
          ]
        },
        {
          "name": "stderr",
          "output_type": "stream",
          "text": [
            "No model was supplied, defaulted to sshleifer/distilbart-cnn-12-6 (https://huggingface.co/sshleifer/distilbart-cnn-12-6)\n"
          ]
        },
        {
          "name": "stdout",
          "output_type": "stream",
          "text": [
            "My name is . My gender is . i am  years old. My occupation is . What’s brought you in to see me today? : . Can you tell me more about that? : . Where is the pain? : . Did the pain come on suddenly or gradually? : .When did the pain first start? :  .Did the pain come on at rest or whilst you were exerting yourself? :  . How long did the pain last for? : . How would you describe the pain? : . Is the pain constant or does it come and go? : . Does the pain spread elsewhere? : . Are there any other symptoms that seem associated with the pain? : . How has the pain changed over time? : . Does anything make the pain worse? : . Does anything make the pain better? : . \n"
          ]
        },
        {
          "name": "stderr",
          "output_type": "stream",
          "text": [
            "Your max_length is set to 200, but you input_length is only 173. You might consider decreasing max_length manually, e.g. summarizer('...', max_length=86)\n",
            "127.0.0.1 - - [15/Jun/2022 13:27:03] \"\u001b[37mPOST / HTTP/1.1\u001b[0m\" 200 -\n"
          ]
        },
        {
          "name": "stdout",
          "output_type": "stream",
          "text": [
            " Is the pain constant or does it come and go? Does the pain spread elsewhere? Is there any other symptoms that seem associated with the pain? How long did the pain last for? How has the pain changed over time? Does anything make the pain worse? Is it constant or comes and goes? Is anything that makes the pain better? Are there other symptoms associated with pain that seem to be associated with it?\n"
          ]
        },
        {
          "name": "stderr",
          "output_type": "stream",
          "text": [
            "No model was supplied, defaulted to sshleifer/distilbart-cnn-12-6 (https://huggingface.co/sshleifer/distilbart-cnn-12-6)\n"
          ]
        },
        {
          "name": "stdout",
          "output_type": "stream",
          "text": [
            "My name is harvey. My gender is Male. i am 20 years old. My occupation is Student. What’s brought you in to see me today? : I was having chest pain today morning when i woke up. Can you tell me more about that? : i woke up today morning early because i was feeling pain at my chest. Where is the pain? : left side of my chest. Did the pain come on suddenly or gradually? :it came suddenly .When did the pain first start? : today morning .Did the pain come on at rest or whilst you were exerting yourself? :  while resting. How long did the pain last for? : 1 minutes. How would you describe the pain? : i feel like something pushing my chest. Is the pain constant or does it come and go? : it was constant. Does the pain spread elsewhere? : no. Are there any other symptoms that seem associated with the pain? : no this is first time. How has the pain changed over time? : yes i feel better. Does anything make the pain worse? : when i rest. Does anything make the pain better? : when i drink water i feel better. \n"
          ]
        },
        {
          "name": "stderr",
          "output_type": "stream",
          "text": [
            "127.0.0.1 - - [15/Jun/2022 13:29:42] \"\u001b[37mPOST / HTTP/1.1\u001b[0m\" 200 -\n"
          ]
        },
        {
          "name": "stdout",
          "output_type": "stream",
          "text": [
            " 20-year-old harvey was having chest pain when he woke up this morning . The pain came on suddenly or gradually and lasted for 1 minutes . When i drink water i feel better. When i rest, the pain is worse when i rest. Does the pain spread elsewhere? Are there any other symptoms that seem associated with the pain? : no this is first time. How long did the pain last for? : 1 minutes.\n"
          ]
        },
        {
          "name": "stderr",
          "output_type": "stream",
          "text": [
            "No model was supplied, defaulted to sshleifer/distilbart-cnn-12-6 (https://huggingface.co/sshleifer/distilbart-cnn-12-6)\n"
          ]
        },
        {
          "name": "stdout",
          "output_type": "stream",
          "text": [
            "My name is . My gender is . i am  years old. My occupation is . What’s brought you in to see me today? : . Can you tell me more about that? : . Where is the pain? : . Did the pain come on suddenly or gradually? : .When did the pain first start? :  .Did the pain come on at rest or whilst you were exerting yourself? :  . How long did the pain last for? : . How would you describe the pain? : . Is the pain constant or does it come and go? : . Does the pain spread elsewhere? : . Are there any other symptoms that seem associated with the pain? : . How has the pain changed over time? : . Does anything make the pain worse? : . Does anything make the pain better? : . \n"
          ]
        },
        {
          "name": "stderr",
          "output_type": "stream",
          "text": [
            "Your max_length is set to 200, but you input_length is only 173. You might consider decreasing max_length manually, e.g. summarizer('...', max_length=86)\n",
            "127.0.0.1 - - [15/Jun/2022 15:13:41] \"\u001b[37mPOST / HTTP/1.1\u001b[0m\" 200 -\n"
          ]
        },
        {
          "name": "stdout",
          "output_type": "stream",
          "text": [
            " Is the pain constant or does it come and go? Does the pain spread elsewhere? Is there any other symptoms that seem associated with the pain? How long did the pain last for? How has the pain changed over time? Does anything make the pain worse? Is it constant or comes and goes? Is anything that makes the pain better? Are there other symptoms associated with pain that seem to be associated with it?\n"
          ]
        },
        {
          "name": "stderr",
          "output_type": "stream",
          "text": [
            "No model was supplied, defaulted to sshleifer/distilbart-cnn-12-6 (https://huggingface.co/sshleifer/distilbart-cnn-12-6)\n"
          ]
        },
        {
          "name": "stdout",
          "output_type": "stream",
          "text": [
            "My name is . My gender is . i am  years old. My occupation is . What’s brought you in to see me today? : . Can you tell me more about that? : . Where is the pain? : . Did the pain come on suddenly or gradually? : .When did the pain first start? :  .Did the pain come on at rest or whilst you were exerting yourself? :  . How long did the pain last for? : . How would you describe the pain? : . Is the pain constant or does it come and go? : . Does the pain spread elsewhere? : . Are there any other symptoms that seem associated with the pain? : . How has the pain changed over time? : . Does anything make the pain worse? : . Does anything make the pain better? : . \n"
          ]
        },
        {
          "name": "stderr",
          "output_type": "stream",
          "text": [
            "Your max_length is set to 200, but you input_length is only 173. You might consider decreasing max_length manually, e.g. summarizer('...', max_length=86)\n",
            "127.0.0.1 - - [15/Jun/2022 15:23:36] \"\u001b[37mPOST / HTTP/1.1\u001b[0m\" 200 -\n"
          ]
        },
        {
          "name": "stdout",
          "output_type": "stream",
          "text": [
            " Is the pain constant or does it come and go? Does the pain spread elsewhere? Is there any other symptoms that seem associated with the pain? How long did the pain last for? How has the pain changed over time? Does anything make the pain worse? Is it constant or comes and goes? Is anything that makes the pain better? Are there other symptoms associated with pain that seem to be associated with it?\n"
          ]
        },
        {
          "name": "stderr",
          "output_type": "stream",
          "text": [
            "No model was supplied, defaulted to sshleifer/distilbart-cnn-12-6 (https://huggingface.co/sshleifer/distilbart-cnn-12-6)\n"
          ]
        },
        {
          "name": "stdout",
          "output_type": "stream",
          "text": [
            "My name is Rabah. My gender is Male. i am 22 years old. My occupation is Student. What’s brought you in to see me today? : I was having chest pain yesterday. Can you tell me more about that? : yesterday i was having chest pain when i woke up. Where is the pain? : i was having it at middle of my chest. Did the pain come on suddenly or gradually? :suddenly .When did the pain first start? : yesterday soon after i get out of bed .Did the pain come on at rest or whilst you were exerting yourself? :  when i stepped out of bed. How long did the pain last for? : 2 minutes. How would you describe the pain? : i feel like something pushing inside my chest. Is the pain constant or does it come and go? : it goes after sometimes. Does the pain spread elsewhere? : no didn't went any where. Are there any other symptoms that seem associated with the pain? : i was having fever last week. i think it maybe because of that. How has the pain changed over time? : it went after i sit and rest. Does anything make the pain worse? : yes when i walk i feel more pain. Does anything make the pain better? : when i rest i feel better. \n"
          ]
        },
        {
          "name": "stderr",
          "output_type": "stream",
          "text": [
            "127.0.0.1 - - [15/Jun/2022 15:27:45] \"\u001b[37mPOST / HTTP/1.1\u001b[0m\" 200 -\n"
          ]
        },
        {
          "name": "stdout",
          "output_type": "stream",
          "text": [
            " Rabah Rabah, 22, was having chest pain when he woke up yesterday . The pain first started when he stepped out of bed and lasted for 2 minutes . Rabah describes the pain as 'something pushing inside my chest' Rabah says when i walk i feel more pain when i sit and rest, the pain goes after sometimes . Does the pain spread elsewhere? : no didn't went any where. i was having fever last week .\n"
          ]
        }
      ],
      "source": [
        "from transformers import pipeline\n",
        "from bs4 import BeautifulSoup\n",
        "import requests\n",
        "from requests.exceptions import HTTPError\n",
        "from flask import Flask , request, jsonify\n",
        "from flask_ngrok import run_with_ngrok\n",
        "\n",
        "\n",
        "\n",
        "\n",
        "app = Flask(__name__)\n",
        "run_with_ngrok(app)\n",
        "\n",
        "@app.route('/', methods=['POST'])\n",
        "def hello_world():\n",
        "    if request.method == \"POST\":\n",
        "        req_json = request.json\n",
        "        name=req_json['name']\n",
        "        print(name)\n",
        "\n",
        "        summarizer = pipeline(\"summarization\")\n",
        "        ARTICLE = name\n",
        "        Data = ARTICLE.replace(\"\\n\", \"\")\n",
        "        res = summarizer(Data, max_length=200, min_length=80, do_sample=False)\n",
        "        res[0]\n",
        "        Final = ' '.join([summ['summary_text'] for summ in res])\n",
        "        print(Final)\n",
        "    return jsonify({\"respose\": Final})\n",
        "    if request.method == \"GET\":\n",
        "      return jsonify({\"respose\": Final})\n",
        "# main driver function\n",
        "if __name__ == '__main__':\n",
        "\n",
        "    app.run()"
      ]
    }
  ],
  "metadata": {
    "colab": {
      "name": "Copy of Summariser Server.ipynb",
      "provenance": [],
      "authorship_tag": "ABX9TyMWbLRfbJKJWXyIf4FMdx2F",
      "include_colab_link": true
    },
    "kernelspec": {
      "display_name": "Python 3",
      "name": "python3"
    },
    "language_info": {
      "name": "python"
    }
  },
  "nbformat": 4,
  "nbformat_minor": 0
}